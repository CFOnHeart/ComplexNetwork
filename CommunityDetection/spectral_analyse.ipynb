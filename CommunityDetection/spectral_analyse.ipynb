{
 "cells": [
  {
   "cell_type": "code",
   "execution_count": 8,
   "metadata": {
    "collapsed": true
   },
   "outputs": [],
   "source": [
    "import networkx as nx\n",
    "import matplotlib.pyplot as plt\n",
    "import numpy as np\n",
    "\n",
    "n = 10\n",
    "\n",
    "G = nx.random_graphs.barabasi_albert_graph(n, 2)   #生成一个BA无标度网络G\n"
   ]
  },
  {
   "cell_type": "code",
   "execution_count": 12,
   "metadata": {},
   "outputs": [
    {
     "name": "stdout",
     "output_type": "stream",
     "text": [
      "vertex:  0 -> 2\n",
      "vertex:  1 -> 4\n",
      "vertex:  2 -> 3\n",
      "vertex:  3 -> 4\n",
      "vertex:  4 -> 6\n",
      "vertex:  5 -> 4\n",
      "vertex:  6 -> 3\n",
      "vertex:  7 -> 2\n",
      "vertex:  8 -> 2\n",
      "vertex:  9 -> 2\n",
      "[[ 2.  0. -1. -1.  0.  0.  0.  0.  0.  0.]\n",
      " [ 0.  4. -1. -1. -1.  0.  0. -1.  0.  0.]\n",
      " [-1. -1.  3.  0.  0. -1.  0.  0.  0.  0.]\n",
      " [-1. -1.  0.  4. -1. -1.  0.  0.  0.  0.]\n",
      " [ 0. -1.  0. -1.  6.  0. -1. -1. -1. -1.]\n",
      " [ 0.  0. -1. -1.  0.  4. -1.  0. -1.  0.]\n",
      " [ 0.  0.  0.  0. -1. -1.  3.  0.  0. -1.]\n",
      " [ 0. -1.  0.  0. -1.  0.  0.  2.  0.  0.]\n",
      " [ 0.  0.  0.  0. -1. -1.  0.  0.  2.  0.]\n",
      " [ 0.  0.  0.  0. -1.  0. -1.  0.  0.  2.]]\n"
     ]
    }
   ],
   "source": [
    "# generate laplace matrix\n",
    "K = np.zeros(shape=(n, n))\n",
    "A = np.zeros(shape=(n, n))\n",
    "\n",
    "for (u, v) in G.edges:\n",
    "    A[u, v] += 1\n",
    "    A[v, u] += 1\n",
    "for vertex in nx.nodes(G):\n",
    "    print('vertex: ', vertex, '->', G.degree[vertex])\n",
    "    K[vertex, vertex] = G.degree[vertex]\n",
    "    \n",
    "L = K - A \n",
    "print(L)"
   ]
  },
  {
   "cell_type": "code",
   "execution_count": 14,
   "metadata": {},
   "outputs": [
    {
     "name": "stdout",
     "output_type": "stream",
     "text": [
      "[7.30905458e+00 6.10707692e+00 1.39930857e-15 4.57837837e+00\n",
      " 1.05107151e+00 1.48418056e+00 1.68417387e+00 2.87436201e+00\n",
      " 3.57423346e+00 3.33746872e+00]\n",
      "[[-0.06834143 -0.20080091 -0.31622777 -0.08196849  0.58311801  0.24845594\n",
      "   0.28926639 -0.52671592 -0.26300093 -0.12750861]\n",
      " [ 0.10179634 -0.56035317 -0.31622777 -0.46474557  0.11645256 -0.30930175\n",
      "   0.01653814  0.20801171  0.44198256  0.10739482]\n",
      " [ 0.0475434   0.38893164 -0.31622777 -0.03632961  0.36622489  0.10585812\n",
      "   0.06522452  0.47829634 -0.17327488  0.58032709]\n",
      " [ 0.31528498  0.43577316 -0.31622777  0.2476754   0.1871124   0.02230028\n",
      "   0.02613337 -0.01775595  0.58729974 -0.40978832]\n",
      " [-0.83842811  0.29023297 -0.31622777 -0.20059196 -0.16196504 -0.10435833\n",
      "  -0.02530378 -0.08007896  0.15055235 -0.07565533]\n",
      " [-0.23832202 -0.44728645 -0.31622777  0.60405593  0.01417556  0.22130762\n",
      "  -0.21998041  0.37879639 -0.0794814  -0.17572846]\n",
      " [ 0.22297828  0.07952244 -0.31622777 -0.40423894 -0.35579105  0.20188635\n",
      "   0.17584884  0.30748767 -0.402719   -0.47491927]\n",
      " [ 0.13875008  0.06576945 -0.31622777  0.25804496 -0.04796197 -0.80194744\n",
      "  -0.02775466 -0.14631554 -0.37639583 -0.02373101]\n",
      " [ 0.20281391  0.03823972 -0.31622777 -0.15647974 -0.15574354  0.22672525\n",
      "  -0.7766431  -0.34164045 -0.04514639  0.18795489]\n",
      " [ 0.11592456 -0.09002885 -0.31622777  0.23457802 -0.54562182  0.18907396\n",
      "   0.47667069 -0.2600853   0.16018377  0.41165419]]\n"
     ]
    }
   ],
   "source": [
    "eigh_vals, eigh_vectors = np.linalg.eig(L)\n",
    "print(eigh_vals)\n",
    "print(eigh_vectors)"
   ]
  },
  {
   "cell_type": "code",
   "execution_count": 15,
   "metadata": {},
   "outputs": [
    {
     "name": "stdout",
     "output_type": "stream",
     "text": [
      "[[0.         0.         0.5        0.5        0.         0.\n",
      "  0.         0.         0.         0.        ]\n",
      " [0.         0.         0.25       0.25       0.25       0.\n",
      "  0.         0.25       0.         0.        ]\n",
      " [0.33333333 0.33333333 0.         0.         0.         0.33333333\n",
      "  0.         0.         0.         0.        ]\n",
      " [0.25       0.25       0.         0.         0.25       0.25\n",
      "  0.         0.         0.         0.        ]\n",
      " [0.         0.16666667 0.         0.16666667 0.         0.\n",
      "  0.16666667 0.16666667 0.16666667 0.16666667]\n",
      " [0.         0.         0.25       0.25       0.         0.\n",
      "  0.25       0.         0.25       0.        ]\n",
      " [0.         0.         0.         0.         0.33333333 0.33333333\n",
      "  0.         0.         0.         0.33333333]\n",
      " [0.         0.5        0.         0.         0.5        0.\n",
      "  0.         0.         0.         0.        ]\n",
      " [0.         0.         0.         0.         0.5        0.5\n",
      "  0.         0.         0.         0.        ]\n",
      " [0.         0.         0.         0.         0.5        0.\n",
      "  0.5        0.         0.         0.        ]]\n"
     ]
    }
   ],
   "source": [
    "# Capocci algorithm -> Normal matrix\n",
    "N = np.dot(np.linalg.inv(K), A)\n",
    "print(N)\n"
   ]
  },
  {
   "cell_type": "code",
   "execution_count": 17,
   "metadata": {},
   "outputs": [
    {
     "name": "stdout",
     "output_type": "stream",
     "text": [
      "[ 1.         -0.8631845   0.58684637  0.42623776  0.22727927  0.04479677\n",
      " -0.10761851 -0.29559904 -0.53881098 -0.47994713]\n"
     ]
    }
   ],
   "source": [
    "print(np.linalg.eigvals(N))"
   ]
  },
  {
   "cell_type": "code",
   "execution_count": 6,
   "metadata": {
    "collapsed": true
   },
   "outputs": [],
   "source": [
    "import numpy as np\n",
    "M = np.array([[0., 0.5, 0.], [1., 0., 1.], [0., 0.5, 0.]])\n",
    "\n",
    "M2 = np.array([[0.5, 0, 0.5], [0., 1., 0.], [0.5, 0, 0.5]])\n",
    "\n",
    "I = np.array([[1., 0., 0.], [0., 1., 0.], [0., 0., 1.]])"
   ]
  },
  {
   "cell_type": "code",
   "execution_count": 8,
   "metadata": {},
   "outputs": [
    {
     "ename": "LinAlgError",
     "evalue": "Singular matrix",
     "output_type": "error",
     "traceback": [
      "\u001b[0;31m---------------------------------------------------------------------------\u001b[0m",
      "\u001b[0;31mLinAlgError\u001b[0m                               Traceback (most recent call last)",
      "\u001b[0;32m<ipython-input-8-062c3d29cd4c>\u001b[0m in \u001b[0;36m<module>\u001b[0;34m()\u001b[0m\n\u001b[0;32m----> 1\u001b[0;31m \u001b[0mprint\u001b[0m\u001b[0;34m(\u001b[0m\u001b[0mnp\u001b[0m\u001b[0;34m.\u001b[0m\u001b[0mlinalg\u001b[0m\u001b[0;34m.\u001b[0m\u001b[0minv\u001b[0m\u001b[0;34m(\u001b[0m\u001b[0mI\u001b[0m\u001b[0;34m-\u001b[0m\u001b[0mM\u001b[0m\u001b[0;34m)\u001b[0m\u001b[0;34m)\u001b[0m\u001b[0;34m\u001b[0m\u001b[0m\n\u001b[0m",
      "\u001b[0;32m~/anaconda3/lib/python3.6/site-packages/numpy/linalg/linalg.py\u001b[0m in \u001b[0;36minv\u001b[0;34m(a)\u001b[0m\n\u001b[1;32m    526\u001b[0m     \u001b[0msignature\u001b[0m \u001b[0;34m=\u001b[0m \u001b[0;34m'D->D'\u001b[0m \u001b[0;32mif\u001b[0m \u001b[0misComplexType\u001b[0m\u001b[0;34m(\u001b[0m\u001b[0mt\u001b[0m\u001b[0;34m)\u001b[0m \u001b[0;32melse\u001b[0m \u001b[0;34m'd->d'\u001b[0m\u001b[0;34m\u001b[0m\u001b[0m\n\u001b[1;32m    527\u001b[0m     \u001b[0mextobj\u001b[0m \u001b[0;34m=\u001b[0m \u001b[0mget_linalg_error_extobj\u001b[0m\u001b[0;34m(\u001b[0m\u001b[0m_raise_linalgerror_singular\u001b[0m\u001b[0;34m)\u001b[0m\u001b[0;34m\u001b[0m\u001b[0m\n\u001b[0;32m--> 528\u001b[0;31m     \u001b[0mainv\u001b[0m \u001b[0;34m=\u001b[0m \u001b[0m_umath_linalg\u001b[0m\u001b[0;34m.\u001b[0m\u001b[0minv\u001b[0m\u001b[0;34m(\u001b[0m\u001b[0ma\u001b[0m\u001b[0;34m,\u001b[0m \u001b[0msignature\u001b[0m\u001b[0;34m=\u001b[0m\u001b[0msignature\u001b[0m\u001b[0;34m,\u001b[0m \u001b[0mextobj\u001b[0m\u001b[0;34m=\u001b[0m\u001b[0mextobj\u001b[0m\u001b[0;34m)\u001b[0m\u001b[0;34m\u001b[0m\u001b[0m\n\u001b[0m\u001b[1;32m    529\u001b[0m     \u001b[0;32mreturn\u001b[0m \u001b[0mwrap\u001b[0m\u001b[0;34m(\u001b[0m\u001b[0mainv\u001b[0m\u001b[0;34m.\u001b[0m\u001b[0mastype\u001b[0m\u001b[0;34m(\u001b[0m\u001b[0mresult_t\u001b[0m\u001b[0;34m,\u001b[0m \u001b[0mcopy\u001b[0m\u001b[0;34m=\u001b[0m\u001b[0;32mFalse\u001b[0m\u001b[0;34m)\u001b[0m\u001b[0;34m)\u001b[0m\u001b[0;34m\u001b[0m\u001b[0m\n\u001b[1;32m    530\u001b[0m \u001b[0;34m\u001b[0m\u001b[0m\n",
      "\u001b[0;32m~/anaconda3/lib/python3.6/site-packages/numpy/linalg/linalg.py\u001b[0m in \u001b[0;36m_raise_linalgerror_singular\u001b[0;34m(err, flag)\u001b[0m\n\u001b[1;32m     87\u001b[0m \u001b[0;34m\u001b[0m\u001b[0m\n\u001b[1;32m     88\u001b[0m \u001b[0;32mdef\u001b[0m \u001b[0m_raise_linalgerror_singular\u001b[0m\u001b[0;34m(\u001b[0m\u001b[0merr\u001b[0m\u001b[0;34m,\u001b[0m \u001b[0mflag\u001b[0m\u001b[0;34m)\u001b[0m\u001b[0;34m:\u001b[0m\u001b[0;34m\u001b[0m\u001b[0m\n\u001b[0;32m---> 89\u001b[0;31m     \u001b[0;32mraise\u001b[0m \u001b[0mLinAlgError\u001b[0m\u001b[0;34m(\u001b[0m\u001b[0;34m\"Singular matrix\"\u001b[0m\u001b[0;34m)\u001b[0m\u001b[0;34m\u001b[0m\u001b[0m\n\u001b[0m\u001b[1;32m     90\u001b[0m \u001b[0;34m\u001b[0m\u001b[0m\n\u001b[1;32m     91\u001b[0m \u001b[0;32mdef\u001b[0m \u001b[0m_raise_linalgerror_nonposdef\u001b[0m\u001b[0;34m(\u001b[0m\u001b[0merr\u001b[0m\u001b[0;34m,\u001b[0m \u001b[0mflag\u001b[0m\u001b[0;34m)\u001b[0m\u001b[0;34m:\u001b[0m\u001b[0;34m\u001b[0m\u001b[0m\n",
      "\u001b[0;31mLinAlgError\u001b[0m: Singular matrix"
     ]
    }
   ],
   "source": [
    "print(np.linalg.inv(I-M))"
   ]
  },
  {
   "cell_type": "code",
   "execution_count": null,
   "metadata": {
    "collapsed": true
   },
   "outputs": [],
   "source": []
  }
 ],
 "metadata": {
  "kernelspec": {
   "display_name": "Python 3",
   "language": "python",
   "name": "python3"
  },
  "language_info": {
   "codemirror_mode": {
    "name": "ipython",
    "version": 3
   },
   "file_extension": ".py",
   "mimetype": "text/x-python",
   "name": "python",
   "nbconvert_exporter": "python",
   "pygments_lexer": "ipython3",
   "version": "3.6.3"
  }
 },
 "nbformat": 4,
 "nbformat_minor": 2
}
